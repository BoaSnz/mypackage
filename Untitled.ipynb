{
 "cells": [
  {
   "cell_type": "code",
   "execution_count": 1,
   "id": "800399ca-f8a1-4222-8790-9ff02f9586ad",
   "metadata": {},
   "outputs": [],
   "source": [
    "from mypackage.lib import try_me\n"
   ]
  },
  {
   "cell_type": "code",
   "execution_count": 2,
   "id": "67dd195a-7916-4c87-a22e-28812cb2e4b9",
   "metadata": {},
   "outputs": [
    {
     "name": "stdout",
     "output_type": "stream",
     "text": [
      "You've got the best package in the world!\n"
     ]
    }
   ],
   "source": [
    "try_me()"
   ]
  }
 ],
 "metadata": {
  "kernelspec": {
   "display_name": "Python 3 (ipykernel)",
   "language": "python",
   "name": "python3"
  },
  "language_info": {
   "codemirror_mode": {
    "name": "ipython",
    "version": 3
   },
   "file_extension": ".py",
   "mimetype": "text/x-python",
   "name": "python",
   "nbconvert_exporter": "python",
   "pygments_lexer": "ipython3",
   "version": "3.8.12"
  }
 },
 "nbformat": 4,
 "nbformat_minor": 5
}
